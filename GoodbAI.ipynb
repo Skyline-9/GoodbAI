{
  "nbformat": 4,
  "nbformat_minor": 0,
  "metadata": {
    "colab": {
      "name": "GoodbAI",
      "provenance": [],
      "collapsed_sections": [],
      "toc_visible": true,
      "include_colab_link": true
    },
    "kernelspec": {
      "name": "python3",
      "display_name": "Python 3"
    },
    "accelerator": "GPU"
  },
  "cells": [
    {
      "cell_type": "markdown",
      "metadata": {
        "id": "view-in-github",
        "colab_type": "text"
      },
      "source": [
        "<a href=\"https://colab.research.google.com/github/Skyline-9/GoodbAI/blob/master/GoodbAI.ipynb\" target=\"_parent\"><img src=\"https://colab.research.google.com/assets/colab-badge.svg\" alt=\"Open In Colab\"/></a>"
      ]
    },
    {
      "cell_type": "markdown",
      "metadata": {
        "id": "H7LoMj4GA4n_",
        "colab_type": "text"
      },
      "source": [
        "#  Creating a Kobe Twitter Bot\n",
        "\n",
        "by Richard Luo\n",
        "\n",
        "*Since: August 24th, 2020*\n",
        "\n",
        "Using gpt-2-simple, I refined OpenAI's Generative Pre-trained Transformer 2 (GPT) by training the model on Kobe's Tweets. Using TWINT, I scraped all of Kobe's tweets since he first came onto Twitter until his infamous last tweet about LeBron James.\n"
      ]
    },
    {
      "cell_type": "code",
      "metadata": {
        "id": "KBkpRgBCBS2_",
        "colab_type": "code",
        "colab": {
          "base_uri": "https://localhost:8080/",
          "height": 187
        },
        "outputId": "54bf039e-658d-4fc1-bb9d-9ce869274310"
      },
      "source": [
        "%tensorflow_version 1.x\n",
        "!pip install -q gpt-2-simple\n",
        "import gpt_2_simple as gpt2\n",
        "from datetime import datetime\n",
        "from google.colab import files"
      ],
      "execution_count": null,
      "outputs": [
        {
          "output_type": "stream",
          "text": [
            "TensorFlow 1.x selected.\n",
            "  Building wheel for gpt-2-simple (setup.py) ... \u001b[?25l\u001b[?25hdone\n",
            "WARNING:tensorflow:\n",
            "The TensorFlow contrib module will not be included in TensorFlow 2.0.\n",
            "For more information, please see:\n",
            "  * https://github.com/tensorflow/community/blob/master/rfcs/20180907-contrib-sunset.md\n",
            "  * https://github.com/tensorflow/addons\n",
            "  * https://github.com/tensorflow/io (for I/O related ops)\n",
            "If you depend on functionality not listed there, please file an issue.\n",
            "\n"
          ],
          "name": "stdout"
        }
      ]
    },
    {
      "cell_type": "markdown",
      "metadata": {
        "id": "Bj2IJLHP3KwE",
        "colab_type": "text"
      },
      "source": [
        "## GPU\n",
        "\n",
        "Verifying Which GPU is in use - Tesla T4 is better than the P100"
      ]
    },
    {
      "cell_type": "code",
      "metadata": {
        "id": "sUmTooTW3osf",
        "colab_type": "code",
        "colab": {
          "base_uri": "https://localhost:8080/",
          "height": 357
        },
        "outputId": "a1adad8e-8055-4bf8-d438-6a20f63dc2ff"
      },
      "source": [
        "!nvidia-smi"
      ],
      "execution_count": null,
      "outputs": [
        {
          "output_type": "stream",
          "text": [
            "Tue Aug 25 17:10:36 2020       \n",
            "+-----------------------------------------------------------------------------+\n",
            "| NVIDIA-SMI 450.57       Driver Version: 418.67       CUDA Version: 10.1     |\n",
            "|-------------------------------+----------------------+----------------------+\n",
            "| GPU  Name        Persistence-M| Bus-Id        Disp.A | Volatile Uncorr. ECC |\n",
            "| Fan  Temp  Perf  Pwr:Usage/Cap|         Memory-Usage | GPU-Util  Compute M. |\n",
            "|                               |                      |               MIG M. |\n",
            "|===============================+======================+======================|\n",
            "|   0  Tesla K80           Off  | 00000000:00:04.0 Off |                    0 |\n",
            "| N/A   36C    P8    28W / 149W |      0MiB / 11441MiB |      0%      Default |\n",
            "|                               |                      |                 ERR! |\n",
            "+-------------------------------+----------------------+----------------------+\n",
            "                                                                               \n",
            "+-----------------------------------------------------------------------------+\n",
            "| Processes:                                                                  |\n",
            "|  GPU   GI   CI        PID   Type   Process name                  GPU Memory |\n",
            "|        ID   ID                                                   Usage      |\n",
            "|=============================================================================|\n",
            "|  No running processes found                                                 |\n",
            "+-----------------------------------------------------------------------------+\n"
          ],
          "name": "stdout"
        }
      ]
    },
    {
      "cell_type": "markdown",
      "metadata": {
        "id": "0wXB05bPDYxS",
        "colab_type": "text"
      },
      "source": [
        "## Downloading GPT-2\n",
        "\n",
        "There are three released sizes of GPT-2:\n",
        "\n",
        "* `124M` (default): the \"small\" model, 500MB on disk.\n",
        "* `355M`: the \"medium\" model, 1.5GB on disk.\n",
        "* `774M`: the \"large\" model, cannot currently be finetuned with Colaboratory but can be used to generate text from the pretrained model (see later in Notebook)\n",
        "* `1558M`: the \"extra large\", true model. Will not work if a K80 GPU is attached to the notebook. (like `774M`, it cannot be finetuned).\n",
        "\n",
        "Larger models have more knowledge, but take longer to finetune and longer to generate text."
      ]
    },
    {
      "cell_type": "code",
      "metadata": {
        "id": "P8wSlgXoDPCR",
        "colab_type": "code",
        "colab": {
          "base_uri": "https://localhost:8080/",
          "height": 136
        },
        "outputId": "f6feb4fa-1f9a-4f63-dd06-7cd3bfe0fd8b"
      },
      "source": [
        "gpt2.download_gpt2(model_name=\"124M\")"
      ],
      "execution_count": null,
      "outputs": [
        {
          "output_type": "stream",
          "text": [
            "Fetching checkpoint: 1.05Mit [00:00, 190Mit/s]                                                      \n",
            "Fetching encoder.json: 1.05Mit [00:00, 62.5Mit/s]                                                   \n",
            "Fetching hparams.json: 1.05Mit [00:00, 433Mit/s]                                                    \n",
            "Fetching model.ckpt.data-00000-of-00001: 498Mit [00:06, 74.1Mit/s]                                  \n",
            "Fetching model.ckpt.index: 1.05Mit [00:00, 440Mit/s]                                                \n",
            "Fetching model.ckpt.meta: 1.05Mit [00:00, 113Mit/s]                                                 \n",
            "Fetching vocab.bpe: 1.05Mit [00:00, 127Mit/s]                                                       \n"
          ],
          "name": "stderr"
        }
      ]
    },
    {
      "cell_type": "markdown",
      "metadata": {
        "id": "N8KXuKWzQSsN",
        "colab_type": "text"
      },
      "source": [
        "## Mounting Google Drive\n",
        "\n",
        "The best way to get input text to-be-trained into the Colaboratory VM, and to get the trained model *out* of Colaboratory, is to route it through Google Drive *first*.\n",
        "\n",
        "Running this cell (which will only work in Colaboratory) will mount your personal Google Drive in the VM, which later cells can use to get data in/out. (it will ask for an auth code; that auth is not saved anywhere)"
      ]
    },
    {
      "cell_type": "code",
      "metadata": {
        "id": "puq4iC6vUAHc",
        "colab_type": "code",
        "colab": {
          "base_uri": "https://localhost:8080/",
          "height": 122
        },
        "outputId": "a563dea4-9fbb-486c-818a-8df2ecb25837"
      },
      "source": [
        "gpt2.mount_gdrive()"
      ],
      "execution_count": null,
      "outputs": [
        {
          "output_type": "stream",
          "text": [
            "Go to this URL in a browser: https://accounts.google.com/o/oauth2/auth?client_id=947318989803-6bn6qk8qdgf4n4g3pfee6491hc0brc4i.apps.googleusercontent.com&redirect_uri=urn%3aietf%3awg%3aoauth%3a2.0%3aoob&scope=email%20https%3a%2f%2fwww.googleapis.com%2fauth%2fdocs.test%20https%3a%2f%2fwww.googleapis.com%2fauth%2fdrive%20https%3a%2f%2fwww.googleapis.com%2fauth%2fdrive.photos.readonly%20https%3a%2f%2fwww.googleapis.com%2fauth%2fpeopleapi.readonly&response_type=code\n",
            "\n",
            "Enter your authorization code:\n",
            "··········\n",
            "Mounted at /content/drive\n"
          ],
          "name": "stdout"
        }
      ]
    },
    {
      "cell_type": "markdown",
      "metadata": {
        "id": "BT__brhBCvJu",
        "colab_type": "text"
      },
      "source": [
        "## Uploading a Text File to be Trained to Colaboratory\n",
        "\n",
        "In the Colaboratory Notebook sidebar on the left of the screen, select *Files*. From there you can upload files:\n",
        "\n",
        "![alt text](https://i.imgur.com/TGcZT4h.png)\n",
        "\n",
        "Upload **any smaller text file**  (<10 MB) and update the file name in the cell below, then run the cell."
      ]
    },
    {
      "cell_type": "code",
      "metadata": {
        "id": "6OFnPCLADfll",
        "colab_type": "code",
        "colab": {}
      },
      "source": [
        "file_name = \"kobe.txt\""
      ],
      "execution_count": null,
      "outputs": []
    },
    {
      "cell_type": "markdown",
      "metadata": {
        "id": "HeeSKtNWUedE",
        "colab_type": "text"
      },
      "source": [
        "If your text file is larger than 10MB, it is recommended to upload that file to Google Drive first, then copy that file from Google Drive to the Colaboratory VM."
      ]
    },
    {
      "cell_type": "code",
      "metadata": {
        "id": "-Z6okFD8VKtS",
        "colab_type": "code",
        "colab": {}
      },
      "source": [
        "gpt2.copy_file_from_gdrive(file_name)"
      ],
      "execution_count": null,
      "outputs": []
    },
    {
      "cell_type": "markdown",
      "metadata": {
        "id": "LdpZQXknFNY3",
        "colab_type": "text"
      },
      "source": [
        "## Finetune GPT-2\n",
        "\n",
        "The next cell will start the actual finetuning of GPT-2. It creates a persistent TensorFlow session which stores the training config, then runs the training for the specified number of `steps`. (to have the finetuning run indefinitely, set `steps = -1`)\n",
        "\n",
        "The model checkpoints will be saved in `/checkpoint/run1` by default. The checkpoints are saved every 500 steps (can be changed) and when the cell is stopped.\n",
        "\n",
        "The training might time out after 4ish hours; make sure you end training and save the results so you don't lose them!\n",
        "\n",
        "**IMPORTANT NOTE:** If you want to rerun this cell, **restart the VM first** (Runtime -> Restart Runtime). You will need to rerun imports but not recopy files.\n",
        "\n",
        "Other optional-but-helpful parameters for `gpt2.finetune`:\n",
        "\n",
        "\n",
        "*  **`restore_from`**: Set to `fresh` to start training from the base GPT-2, or set to `latest` to restart training from an existing checkpoint.\n",
        "* **`sample_every`**: Number of steps to print example output\n",
        "* **`print_every`**: Number of steps to print training progress.\n",
        "* **`learning_rate`**:  Learning rate for the training. (default `1e-4`, can lower to `1e-5` if you have <1MB input data)\n",
        "*  **`run_name`**: subfolder within `checkpoint` to save the model. This is useful if you want to work with multiple models (will also need to specify  `run_name` when loading the model)\n",
        "* **`overwrite`**: Set to `True` if you want to continue finetuning an existing model (w/ `restore_from='latest'`) without creating duplicate copies. "
      ]
    },
    {
      "cell_type": "code",
      "metadata": {
        "id": "aeXshJM-Cuaf",
        "colab_type": "code",
        "colab": {
          "base_uri": "https://localhost:8080/",
          "height": 904
        },
        "outputId": "de17dd7b-af83-4ce9-a9e2-536d755c27e4"
      },
      "source": [
        "sess = gpt2.start_tf_sess()\n",
        "\n",
        "gpt2.finetune(sess,\n",
        "              dataset=file_name,\n",
        "              model_name='124M',\n",
        "              steps=1000,\n",
        "              restore_from='latest',\n",
        "              run_name='run1',\n",
        "              print_every=10,\n",
        "              sample_every=200,\n",
        "              save_every=500,\n",
        "              overwrite=True\n",
        "              )"
      ],
      "execution_count": null,
      "outputs": [
        {
          "output_type": "stream",
          "text": [
            "WARNING:tensorflow:From /usr/local/lib/python3.6/dist-packages/gpt_2_simple/src/sample.py:17: where (from tensorflow.python.ops.array_ops) is deprecated and will be removed in a future version.\n",
            "Instructions for updating:\n",
            "Use tf.where in 2.0, which has the same broadcast rule as np.where\n",
            "Loading checkpoint checkpoint/run1/model-706\n",
            "INFO:tensorflow:Restoring parameters from checkpoint/run1/model-706\n"
          ],
          "name": "stdout"
        },
        {
          "output_type": "stream",
          "text": [
            "\r  0%|          | 0/1 [00:00<?, ?it/s]"
          ],
          "name": "stderr"
        },
        {
          "output_type": "stream",
          "text": [
            "Loading dataset...\n"
          ],
          "name": "stdout"
        },
        {
          "output_type": "stream",
          "text": [
            "100%|██████████| 1/1 [00:00<00:00,  2.32it/s]\n"
          ],
          "name": "stderr"
        },
        {
          "output_type": "stream",
          "text": [
            "dataset has 56175 tokens\n",
            "Training...\n",
            "Saving checkpoint/run1/model-706\n",
            "[710 | 13.64] loss=0.06 avg=0.06\n",
            "[720 | 35.15] loss=0.04 avg=0.05\n",
            "[730 | 56.91] loss=0.07 avg=0.06\n",
            "[740 | 78.88] loss=0.04 avg=0.05\n",
            "[750 | 101.01] loss=0.06 avg=0.05\n",
            "[760 | 123.31] loss=0.04 avg=0.05\n",
            "[770 | 145.79] loss=0.04 avg=0.05\n",
            "[780 | 168.34] loss=0.05 avg=0.05\n",
            "[790 | 191.00] loss=0.05 avg=0.05\n",
            "[800 | 213.79] loss=0.04 avg=0.05\n",
            "======== SAMPLE 1 ========\n",
            "ic\n",
            " #diffwritersamequestion #graphicmatter all day 🙌 #seriously #novel https://twitter.com/frankiep2096/status/960the_facts/attachment?cimeid=nb_c0bt1qigm&reserved=0 …\n",
            " my man 🙌 https://twitter.com/raiders/status/9ohh75Avcur_XM/status/9ohigashii4waI0/photo …\n",
            " their first track release of the year #BringYourGame #Wizenard was a ROCK😁 RT 💪🏾💪🏾💪🏾 @MisterCtopp https://twitter.com/isterctopp/status/901844innermix/photo …\n",
            " one of my favorite announcers All star analyst and @DrinkBODYARMOR CEO @JerryCraft muses on what makes sports fans so special.  @DrinkBODYARMOR CEO @ROB_DOORNOLD #ObsessionIsNatural #UpgradeYourSportsDrink pic.twitter.com/jgoconZQvx\n",
            " @6life https://twitter.com/Astrobiology/status/960theoryofgrowth/status/960theology/facts …\n",
            " Einstein was right. We are, 2. Uniqueness is abundance. Mastery is Detail. Mastery is Leadership. Mastery is Compassion. Mastery is Compassion is Greatness. Mastery is Compassion is Happiness. Mastery is Compassion is Compassion is Compassion is Compassion is Comp is Comp is Comp is Comp is Comp is All For One. 🙌 #ObsessionIsNatural #UpgradeYourSportsDrink pic.twitter.com/uFBA1oQwx\n",
            " What an honor 🙏🏾#LALOVE https://twitter.com/lacity/status/960theology/status/EXTRA_MUSIC/status/960theology/facts …\n",
            " 👀 @DeMar_DeRozan #LegendsLive  http://www.youtube.com/watch?v=e5E0Godoe_04 …\n",
            " I am honored to be in the position to inspire the next generation. Thank you @slamonline for the opportunity to share my vision. I hope you all enjoy the stories to come.  http://bit.ly/ThePunies  #DearBasketball @slamonline pic.twitter.com/qDPR1bXsw3\n",
            " Thank you for having me China! I had an incredible time introducing The #Wizenard Series to all of you and I can’t wait till the release on March 19th! pic.twitter.com/2h6B3inVrw\n",
            " 🙏🏾 https://twitter.com/Smith_in5th/status/960won_iana/status/no-0000219160/photo/1 pic.twitter.com/DI6KGYd4W1 …\n",
            " It’s a an amazing feeling to have an idea, work that idea over and over and over again for 3 years to see it come to life for readers to enjoy. I hope you’ll enjoy the story as much as I loved making it.\n",
            " It’s the magical process by which an idea\n",
            " #madehewread” #made4life pic.twitter.com/y7soYG2tkSc\n",
            " Thank you @RebelWilson and it’s always good to see you https://twitter.com/RebelWilson/status/9ש� #mambaarmy https://twitter.com/JeanieBuss/status/9��” ? pic.twitter.com 🙌🏾\n",
            " 👀@TaylorTownsend is the New @StuartScott Black Mamba of Love, Respect and Inspiration. I hope your book leads you to discover your inner beast #MagisterialMamba #MagisterialMamba #MambaMambaMambaMambaM. Ew. Watch 💪🏾 https://twitter.com/twitima/status/972188944433467648 …\n",
            " 🙌🏾 https://twitter.com/billboard/status/972180878824698 start of summer school!! #gofigure https://twitter.com/billboard/status/972184231869044064 …\n",
            " 🙌🏾 #gofigure https://twitter.com/jennypotts/status/97218000800596864 …\n",
            " Arya 🙌🏾🙌🏾 Next up for @DrinkBODYARMOR is an edification class #2 at @DrinkBODYARMOR.  https\n",
            "\n",
            "[810 | 248.51] loss=0.04 avg=0.05\n",
            "[820 | 271.47] loss=0.05 avg=0.05\n",
            "[830 | 294.34] loss=0.03 avg=0.05\n",
            "[840 | 317.29] loss=0.05 avg=0.05\n",
            "interrupted\n",
            "Saving checkpoint/run1/model-848\n",
            "WARNING:tensorflow:From /tensorflow-1.15.2/python3.6/tensorflow_core/python/training/saver.py:963: remove_checkpoint (from tensorflow.python.training.checkpoint_management) is deprecated and will be removed in a future version.\n",
            "Instructions for updating:\n",
            "Use standard file APIs to delete files with this prefix.\n"
          ],
          "name": "stdout"
        }
      ]
    },
    {
      "cell_type": "markdown",
      "metadata": {
        "id": "IXSuTNERaw6K",
        "colab_type": "text"
      },
      "source": [
        "After the model is trained, you can copy the checkpoint folder to your own Google Drive.\n",
        "\n",
        "If you want to download it to your personal computer, it's strongly recommended you copy it there first, then download from Google Drive. The checkpoint folder is copied as a `.rar` compressed file; you can download it and uncompress it locally."
      ]
    },
    {
      "cell_type": "code",
      "metadata": {
        "id": "VHdTL8NDbAh3",
        "colab_type": "code",
        "colab": {}
      },
      "source": [
        "gpt2.copy_checkpoint_to_gdrive(run_name='run1')"
      ],
      "execution_count": null,
      "outputs": []
    },
    {
      "cell_type": "markdown",
      "metadata": {
        "id": "qQJgV_b4bmzd",
        "colab_type": "text"
      },
      "source": [
        "You're done! Feel free to go to the **Generate Text From The Trained Model** section to generate text based on your retrained model."
      ]
    },
    {
      "cell_type": "markdown",
      "metadata": {
        "id": "pel-uBULXO2L",
        "colab_type": "text"
      },
      "source": [
        "## Load a Trained Model Checkpoint\n",
        "\n",
        "Running the next cell will copy the `.rar` checkpoint file from your Google Drive into the Colaboratory VM."
      ]
    },
    {
      "cell_type": "code",
      "metadata": {
        "id": "DCcx5u7sbPTD",
        "colab_type": "code",
        "colab": {}
      },
      "source": [
        "gpt2.copy_checkpoint_from_gdrive(run_name='run1')"
      ],
      "execution_count": null,
      "outputs": []
    },
    {
      "cell_type": "markdown",
      "metadata": {
        "id": "RTa6zf3e_9gV",
        "colab_type": "text"
      },
      "source": [
        "The next cell will allow you to load the retrained model checkpoint + metadata necessary to generate text.\n",
        "\n",
        "**IMPORTANT NOTE:** If you want to rerun this cell, **restart the VM first** (Runtime -> Restart Runtime). You will need to rerun imports but not recopy files."
      ]
    },
    {
      "cell_type": "code",
      "metadata": {
        "id": "-fxL77nvAMAX",
        "colab_type": "code",
        "colab": {
          "base_uri": "https://localhost:8080/",
          "height": 51
        },
        "outputId": "c9ce968e-1e6f-4808-e439-d3004c3bde15"
      },
      "source": [
        "sess = gpt2.start_tf_sess()\n",
        "gpt2.load_gpt2(sess, run_name='run1')"
      ],
      "execution_count": null,
      "outputs": [
        {
          "output_type": "stream",
          "text": [
            "Loading checkpoint checkpoint/run1/model-848\n",
            "INFO:tensorflow:Restoring parameters from checkpoint/run1/model-848\n"
          ],
          "name": "stdout"
        }
      ]
    },
    {
      "cell_type": "markdown",
      "metadata": {
        "id": "ClJwpF_ACONp",
        "colab_type": "text"
      },
      "source": [
        "## Generate Text From The Trained Model\n",
        "\n",
        "After you've trained the model or loaded a retrained model from checkpoint, you can now generate text. `generate` generates a single text from the loaded model."
      ]
    },
    {
      "cell_type": "code",
      "metadata": {
        "id": "4RNY6RBI9LmL",
        "colab_type": "code",
        "colab": {
          "base_uri": "https://localhost:8080/",
          "height": 700
        },
        "outputId": "15792e79-14f9-4807-a18d-812f81dd720e"
      },
      "source": [
        "gpt2.generate(sess, run_name='run1')"
      ],
      "execution_count": null,
      "outputs": [
        {
          "output_type": "stream",
          "text": [
            " @PhilJackson11 I'm thinking of writing a novel about retiring from basketball and founding a company…  http://instagram.com/p/l6yTNrUVjd/ \n",
            " @PhilJackson11 I've been thinking about writing a novel for a while now but didnt know I was writing it lol I'm not a bad kid hey are you ready to play yet?\n",
            " Thinking about writing a novelisation of #ThePunies #GameSetTellerforyou #TeamUSA #LakerNation\n",
            " A #ThankYouMLK50 march is about more than just seeing shoes fitted. It's about being represented in the highest level. It's about being a part of the change. Change is coming. Watch Episode 4 here:   http://es.pn/2J1XR7H \n",
            " Lesson 1: Love the hate. #HeroVillain #KOBE11\n",
            " I love the trash talk. #ambien #mambaout\n",
            " This is why I partner with Lenovo #LegacyandtheQueen #Kobe11\n",
            " #TMT:  http://www.youtube.com/watch?v=t8ZtgNuZDM ” by far the craziest thing I've done! I have no idea how I walked after that #real***t\n",
            " @PhilJackson11 ist really only funny 8to9 years but it will get better. I'm thinking 9.5 to 12\n",
            " #Dekel#ThisIsNOW\n",
            " #HeroVillain #KOBE11\n",
            " Hahaha #simpleminds\n",
            " @SteveBlake5 #muse\n",
            " @tolanialli good luck. Enjoy life after the game #Kobe11\n",
            " #tuccinamos\n",
            " @tuccinamos It's a changing of the guard is a great feeling\n",
            " @tuccinamos it is. @tuccinamos is where I get my inspiration\n",
            " “@tuccinamos: .@KyrieIrving you're a competitor too!” I love the look of his (Irving's) new Nike shoe. Check it here:  http://i.instagram.com/p/Bo9fxN6RNq/ \n",
            " “@RebelWilson: I've always wanted a Rosie Odom!” I love her film and would gladly take her on the show.\n",
            " Rosie is a realist her class is amazing!\n",
            " I've cried foul play no more! #onepaintmore #onemoregame\n",
            " @RebelWilson No prob. I will check it out tomorrow #onemoregame #differentanimalsamebeast\n",
            " “@ZareenAysha: What an honor to present Mark Parker w/ the Golden Boy  to such an incredible generation.” #51cagevino\n",
            " Welcome to the new era of sports drinks. #Switch2Natural #alexbend ⚽�  http://instagram.com/p/BoNlqxNm/ \n",
            " Thank you @EponymousMusic for helping bring to life the word #nikevino #GoldenBoy\n",
            " @kobebryant Thanks @Gatorade, @DrinkBODYARMOR will take it from here.\n",
            " #nikevino means exactly what it says on the tin. Drink BODYARMOR. #vino\n",
            " Drink BODYARMOR. #vino #respect\n",
            " Respect. https://twitter.com/espn/status/291005426626080768/photo/1 pic.twitter.com/raajqphs ” #nikevino\n",
            " @Isaiah_Thomas not cool. Just heard good things about you both :-)\n",
            " Thanks @WashMystics thank you fam! You guys are truly \"the\" reason my brotha come back stronger. #mysticalbody #mambasrep\n",
            " Don't demand equality if you are a failure. Find a way to win back the love of a chippy game with consistently changing body types #lovemygame\n",
            " #GoldenBoy inspired, but honestly, what could go wrong? IKEA? #jewellnumberboliviana #musecagevino https://twitter.com/jewellnumberbolivia/status/290856086234341377 …\n",
            " @jerrycferrara hell no!\n",
            " Play like a champion https://twitter.com/goghadvd/status/29100542662603936/photo/1 pic.twitter.com/raajqphs \n",
            " Nah. Just see how far I've come as a competitor. Not a fan, justifications for my unwillingness to play. Different teams and leagues\n",
            " Not a chance\n",
            " Great thing Stephane doubles team with me! Amazing goal to win back the champs momentum\n",
            " #musecage https://twitter.com/goghad\n"
          ],
          "name": "stdout"
        }
      ]
    },
    {
      "cell_type": "markdown",
      "metadata": {
        "id": "oF4-PqF0Fl7R",
        "colab_type": "text"
      },
      "source": [
        "If you're creating an API based on your model and need to pass the generated text elsewhere, you can do `text = gpt2.generate(sess, return_as_list=True)[0]`\n",
        "\n",
        "You can also pass in a `prefix` to the generate function to force the text to start with a given character sequence and generate text from there (good if you add an indicator when the text starts).\n",
        "\n",
        "You can also generate multiple texts at a time by specifing `nsamples`. Unique to GPT-2, you can pass a `batch_size` to generate multiple samples in parallel, giving a massive speedup (in Colaboratory, set a maximum of 20 for `batch_size`).\n",
        "\n",
        "Other optional-but-helpful parameters for `gpt2.generate` and friends:\n",
        "\n",
        "*  **`length`**: Number of tokens to generate (default 1023, the maximum)\n",
        "* **`temperature`**: The higher the temperature, the crazier the text (default 0.7, recommended to keep between 0.7 and 1.0)\n",
        "* **`top_k`**: Limits the generated guesses to the top *k* guesses (default 0 which disables the behavior; if the generated output is super crazy, you may want to set `top_k=40`)\n",
        "* **`top_p`**: Nucleus sampling: limits the generated guesses to a cumulative probability. (gets good results on a dataset with `top_p=0.9`)\n",
        "* **`truncate`**: Truncates the input text until a given sequence, excluding that sequence (e.g. if `truncate='<|endoftext|>'`, the returned text will include everything before the first `<|endoftext|>`). It may be useful to combine this with a smaller `length` if the input texts are short.\n",
        "*  **`include_prefix`**: If using `truncate` and `include_prefix=False`, the specified `prefix` will not be included in the returned text."
      ]
    },
    {
      "cell_type": "code",
      "metadata": {
        "id": "8DKMc0fiej4N",
        "colab_type": "code",
        "colab": {
          "base_uri": "https://localhost:8080/",
          "height": 768
        },
        "outputId": "0e94edad-ce0c-4048-fcb3-15c0610ac250"
      },
      "source": [
        "gpt2.generate(sess,\n",
        "              length=250,\n",
        "              temperature=0.7,\n",
        "              prefix=\"@KingJames\",\n",
        "              nsamples=5,\n",
        "              batch_size=5\n",
        "              )"
      ],
      "execution_count": null,
      "outputs": [
        {
          "output_type": "stream",
          "text": [
            "@KingJames #countonkobe\n",
            " Watching @TurnerSportsEJ and the crew do this #allstarchallenge is hilarious Not a good case for nba players being the best athletes!  HA\n",
            " #QueenMamba ladyvb24 Celebrate the one you love #myvalentine happy valentines day to all #blessings  http://instagram.com/p/kbG3a8RNqV/ \n",
            " Happy birthday Mr Russell. Thank you for all of your wisdom and the amount of time you have taken to…  http://instagram.com/p/kWHezyRNlF/ \n",
            " On my Nike set with the champ rsherman_25 #differentanimalSamebeast  http://instagram.com/p/kQdrA8xNiv/ \n",
            " Major shout to @sagekotsenburg @Jme_Anderson #snowboardGold #usa #SochiStomped\n",
            " Tonight, watch @BillClinton, @AllysonFelix, @TheRealMattKemp & myself discuss why kids in sports is so important. http://es.pn/KidsAndSports \n",
            " What a game! #seriously\n",
            "====================\n",
            "@KingJames #GOAT\n",
            " Catch the short film I Just Metagy feat. Demi Lovato and Dina is dancing! It’s Disney’s masterpiece and one of my favorite videos. https://youtu.be/oVK6YReKeDM ” (  http://bit.ly/60FZrJqU \n",
            " 🐍😎 https://twitter.com/dwyanewade/status/600149450074513408 …\n",
            " Aquaman: God No More!  http://www.nike.com/kobe … pic.twitter.com/Hn8ueuIQNV\n",
            " The film is directed by Paul Jenkins and is represented by Weta/Poly/Annie Wojcicki and is available Nov. 17 wherever you buy or listen to books. Click the link below to pre-order!  http://go90.show/YHVOI  pic.twitter.com/qx9TXpyo8\n",
            " I’m honored to be in the position to inspire the next generation and honored to share my vision. Thank you @theellenshow #MagiciansWipeOut pic.twitter.com\n",
            "====================\n",
            "@KingJames @DrinkBODYARMOR #armorUp\n",
            " @7thChamberPjacs @8thPjacs @8thRE. Check out the newest addition to the @DrinkBODYARMOR family on @ESPN+  http://www.espn.com/video/clip?id=19440196 …\n",
            " 🙌🏾 https://twitter.com/espnW/status/119177880612771128 …\n",
            " 🙏🏾 https://twitter.com/espn.com/status/119168757968948096 …\n",
            " When the world stops, there’s only one option - #ChooseGo #Nike pic.twitter.com/JKJsrBpbBU\n",
            " Cheryl Boone Isaacs 🙌🏾 #ICONMANN https://twitter.com/kelleylcarter/status/119009775‍♂s @kobebryant‍♂d should be in the game in the first place. I think he can really play inside or outside or anywhere in between.\n",
            " @SarahRobbOh got it ;)\n",
            " @SarahRobb\n",
            "====================\n",
            "@KingJames #CountOnIt #ComingSoon https://twitter.com/CountOnIt/status/861039463377831284 …\n",
            " 🙏🏾 https://twitter.com/JeanieBuss/status/86103564540 Future of the Lance and Champ Athletes of the World. Join me in learning more about this great sport.  #KMU\n",
            " Congrats @DianaTaurasi #MambaMentality https://twitter.com/CarliLloyd/status/8610 career women's basketball coach of the year)\n",
            " Congrats @Diego_Ituarte #Decima #Mexico\n",
            " The answer is a healthy balance of all 👌 https://twitter.com/Diego_Ituarte/status/847280396775842097 …\n",
            " As media we should hold UNDERSTANDING the psychological and physical behavior of athletes above judgment. THIS is powerful content #museon https://twitter.com/dannyyouths/status/8462757236neostate that needs to be refuted https://twitter.com/samsheffer/status/8462578676994112\n",
            "====================\n",
            "@KingJames I'm thinking \"better not miss this chance\"\n",
            " “@RebelWilson: I knew I should have got a fresh hair cut for this game #countonkobe” excuse me?\n",
            " “@Diehard_D: I don't think I've ever seen this ugly on the court!^_^ #countonkobe\n",
            " It was a big moment for us all at #CountOnKobe day #HoF\n",
            " Clutch @rachelbanham15 clutch. See you in a few!\n",
            " Congratulations to my #11 Team today #WDraft11 #GOAT #luck\n",
            " “@JustRu_It: @kobebryant if you guys knew each other better, what would you do?” #getem #ladder\n",
            " “@FloydMayweather: @kobebryant you want to be a GM? I think you can”  https://twitter.com/justuvion/status/836437011217039360 …\n",
            " Haha! #fabvino #champs\n",
            " Thank you all for your bday wishes #countonfans https://twitter.com/paugasol/status/\n",
            "====================\n"
          ],
          "name": "stdout"
        }
      ]
    },
    {
      "cell_type": "markdown",
      "metadata": {
        "id": "zjjEN2Tafhl2",
        "colab_type": "text"
      },
      "source": [
        "For bulk generation, you can generate a large amount of text to a file and sort out the samples locally on your computer. The next cell will generate a generated text file with a unique timestamp.\n",
        "\n",
        "You can rerun the cells as many times as you want for even more generated texts!"
      ]
    },
    {
      "cell_type": "code",
      "metadata": {
        "id": "Fa6p6arifSL0",
        "colab_type": "code",
        "colab": {}
      },
      "source": [
        "gen_file = 'gpt2_gentext_{:%Y%m%d_%H%M%S}.txt'.format(datetime.utcnow())\n",
        "\n",
        "gpt2.generate_to_file(sess,\n",
        "                      destination_path=gen_file,\n",
        "                      length=500,\n",
        "                      temperature=0.7,\n",
        "                      nsamples=100,\n",
        "                      batch_size=20\n",
        "                      )"
      ],
      "execution_count": null,
      "outputs": []
    },
    {
      "cell_type": "code",
      "metadata": {
        "id": "0-LRex8lfv1g",
        "colab_type": "code",
        "colab": {
          "base_uri": "https://localhost:8080/",
          "height": 17
        },
        "outputId": "e6cf3383-f30c-4959-a4ac-315ee70c6dba"
      },
      "source": [
        "# may have to run twice to get file to download\n",
        "files.download(gen_file)"
      ],
      "execution_count": null,
      "outputs": [
        {
          "output_type": "display_data",
          "data": {
            "application/javascript": [
              "\n",
              "    async function download(id, filename, size) {\n",
              "      if (!google.colab.kernel.accessAllowed) {\n",
              "        return;\n",
              "      }\n",
              "      const div = document.createElement('div');\n",
              "      const label = document.createElement('label');\n",
              "      label.textContent = `Downloading \"${filename}\": `;\n",
              "      div.appendChild(label);\n",
              "      const progress = document.createElement('progress');\n",
              "      progress.max = size;\n",
              "      div.appendChild(progress);\n",
              "      document.body.appendChild(div);\n",
              "\n",
              "      const buffers = [];\n",
              "      let downloaded = 0;\n",
              "\n",
              "      const channel = await google.colab.kernel.comms.open(id);\n",
              "      // Send a message to notify the kernel that we're ready.\n",
              "      channel.send({})\n",
              "\n",
              "      for await (const message of channel.messages) {\n",
              "        // Send a message to notify the kernel that we're ready.\n",
              "        channel.send({})\n",
              "        if (message.buffers) {\n",
              "          for (const buffer of message.buffers) {\n",
              "            buffers.push(buffer);\n",
              "            downloaded += buffer.byteLength;\n",
              "            progress.value = downloaded;\n",
              "          }\n",
              "        }\n",
              "      }\n",
              "      const blob = new Blob(buffers, {type: 'application/binary'});\n",
              "      const a = document.createElement('a');\n",
              "      a.href = window.URL.createObjectURL(blob);\n",
              "      a.download = filename;\n",
              "      div.appendChild(a);\n",
              "      a.click();\n",
              "      div.remove();\n",
              "    }\n",
              "  "
            ],
            "text/plain": [
              "<IPython.core.display.Javascript object>"
            ]
          },
          "metadata": {
            "tags": []
          }
        },
        {
          "output_type": "display_data",
          "data": {
            "application/javascript": [
              "download(\"download_09f27510-2e20-4a99-bd27-4743f9db71fe\", \"gpt2_gentext_20200825_171907.txt\", 153275)"
            ],
            "text/plain": [
              "<IPython.core.display.Javascript object>"
            ]
          },
          "metadata": {
            "tags": []
          }
        }
      ]
    },
    {
      "cell_type": "markdown",
      "metadata": {
        "id": "ig-KVgkCDCKD",
        "colab_type": "text"
      },
      "source": [
        "# Etc\n",
        "\n",
        "If the notebook has errors (e.g. GPU Sync Fail), force-kill the Colaboratory virtual machine and restart it with the command below:"
      ]
    },
    {
      "cell_type": "code",
      "metadata": {
        "id": "rIHiVP53FnsX",
        "colab_type": "code",
        "colab": {}
      },
      "source": [
        "!kill -9 -1"
      ],
      "execution_count": null,
      "outputs": []
    },
    {
      "cell_type": "markdown",
      "metadata": {
        "id": "wmTXWNUygS5E",
        "colab_type": "text"
      },
      "source": [
        "# LICENSE\n",
        "\n",
        "MIT License\n",
        "\n",
        "Copyright (c) 2019 Max Woolf\n",
        "\n",
        "Permission is hereby granted, free of charge, to any person obtaining a copy\n",
        "of this software and associated documentation files (the \"Software\"), to deal\n",
        "in the Software without restriction, including without limitation the rights\n",
        "to use, copy, modify, merge, publish, distribute, sublicense, and/or sell\n",
        "copies of the Software, and to permit persons to whom the Software is\n",
        "furnished to do so, subject to the following conditions:\n",
        "\n",
        "The above copyright notice and this permission notice shall be included in all\n",
        "copies or substantial portions of the Software.\n",
        "\n",
        "THE SOFTWARE IS PROVIDED \"AS IS\", WITHOUT WARRANTY OF ANY KIND, EXPRESS OR\n",
        "IMPLIED, INCLUDING BUT NOT LIMITED TO THE WARRANTIES OF MERCHANTABILITY,\n",
        "FITNESS FOR A PARTICULAR PURPOSE AND NONINFRINGEMENT. IN NO EVENT SHALL THE\n",
        "AUTHORS OR COPYRIGHT HOLDERS BE LIABLE FOR ANY CLAIM, DAMAGES OR OTHER\n",
        "LIABILITY, WHETHER IN AN ACTION OF CONTRACT, TORT OR OTHERWISE, ARISING FROM,\n",
        "OUT OF OR IN CONNECTION WITH THE SOFTWARE OR THE USE OR OTHER DEALINGS IN THE\n",
        "SOFTWARE."
      ]
    },
    {
      "cell_type": "code",
      "metadata": {
        "id": "zAFiz0HIxzAk",
        "colab_type": "code",
        "colab": {}
      },
      "source": [
        ""
      ],
      "execution_count": null,
      "outputs": []
    }
  ]
}